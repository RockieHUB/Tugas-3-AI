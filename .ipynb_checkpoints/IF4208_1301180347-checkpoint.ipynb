{
 "cells": [
  {
   "cell_type": "code",
   "execution_count": 1,
   "metadata": {},
   "outputs": [],
   "source": [
    "#Import Library yang dibutuhkan\n",
    "import pandas as pd\n",
    "import numpy as np\n",
    "from math import *\n",
    "from random import *"
   ]
  },
  {
   "cell_type": "code",
   "execution_count": 2,
   "metadata": {},
   "outputs": [],
   "source": [
    "#Siapkan Data yang akan dibagikan ke tiap Fold\n",
    "df = pd.read_csv(\"Diabetes.csv\")\n",
    "\n",
    "def train_Data(df, start, end):\n",
    "    data_train = df.iloc[start:end:]\n",
    "\n",
    "    return data_train\n",
    "\n",
    "def test_Data(df, start, end):\n",
    "    data_test = df.iloc[start:end:]\n",
    "    outcomes = df.iloc[start:end:]\n",
    "\n",
    "    outcomes = outcomes.Outcome\n",
    "    return data_test, outcomes\n",
    "\n",
    "#Fungsi Jarak Euclidean\n",
    "def distance_Euclidean(a,b):\n",
    "    a = np.array(a)\n",
    "    b = np.array(b)\n",
    "    x = np.sqrt(np.sum(a-b)**2)\n",
    "    return x\n",
    "\n",
    "#Hitung Tetangga dari test_value\n",
    "def tetangga_List(train_data, test_data, n_tetangga):\n",
    "    jarak = []\n",
    "    i = 0\n",
    "    for row in train_data:\n",
    "        dist = distance_Euclidean(test_data, row)\n",
    "        jarak.append((row, dist))\n",
    "    jarak.sort(key=lambda j: j[1])\n",
    "    \n",
    "    tetangga = []\n",
    "    for i in range(n_tetangga):\n",
    "        tetangga.append(jarak[i][0])\n",
    "    return tetangga\n",
    "\n",
    "#Hitung Prediksi\n",
    "def tebak_KNN(train_data, test_data, k_value):\n",
    "    #Hitung Jarak dari Data-Test ke setiap data-train\n",
    "    tetangga = list()\n",
    "    tetangga = tetangga_List(train_data, test_data, k_value)\n",
    "    nilai_label = [row[-1] for row in tetangga]\n",
    "    prediksi = int(max(set(nilai_label), key=nilai_label.count))\n",
    "    \n",
    "    return prediksi\n",
    "\n",
    "#Hitung Akurasi\n",
    "def nilai_Akurasi(prediksi, nyata):\n",
    "    akurat = 0\n",
    "    for b in range(len(prediksi)):\n",
    "        if nyata[b] == prediksi[b]:\n",
    "            akurat += 1\n",
    "    \n",
    "    return (akurat/len(nyata) * 100)"
   ]
  },
  {
   "cell_type": "code",
   "execution_count": 3,
   "metadata": {},
   "outputs": [
    {
     "name": "stdout",
     "output_type": "stream",
     "text": [
      "Nilai Akurasi =  63.63636363636363\n"
     ]
    }
   ],
   "source": [
    "#Fold1\n",
    "fold1_train = train_Data(df, 0, 614)\n",
    "fold1_test, fold1_test_outcome = test_Data(df, 614, 768)\n",
    "\n",
    "fold1_test = fold1_test.to_numpy()\n",
    "fold1_train = fold1_train.to_numpy()\n",
    "\n",
    "#Hitung Prediksi\n",
    "fold1_list = []\n",
    "\n",
    "#Looping tiap baris test\n",
    "for row in range(len(fold1_test)):\n",
    "    hasil = 0\n",
    "    hasil = tebak_KNN(fold1_train, fold1_test[row], 10)\n",
    "    fold1_list.append(hasil)\n",
    "\n",
    "#Ubah Hasil Prediksi ke integer\n",
    "fold1_test_outcome = fold1_test_outcome.to_list()\n",
    "\n",
    "#Hitung Akurasi\n",
    "acc1 = nilai_Akurasi(fold1_list, fold1_test_outcome)\n",
    "print(\"Nilai Akurasi = \", acc1)"
   ]
  },
  {
   "cell_type": "code",
   "execution_count": 4,
   "metadata": {},
   "outputs": [
    {
     "name": "stdout",
     "output_type": "stream",
     "text": [
      "Nilai Akurasi =  74.50980392156863\n"
     ]
    }
   ],
   "source": [
    "#Fold2\n",
    "#Proses Gabung Data\n",
    "fold2_train = train_Data(df, 0, 461)\n",
    "dummy2 = train_Data(df, 614, 768)\n",
    "fold2_train = fold2_train.append(dummy2)\n",
    "\n",
    "fold2_test, fold2_test_outcome = test_Data(df, 461, 614)\n",
    "\n",
    "fold2_test = fold2_test.to_numpy()\n",
    "fold2_train = fold2_train.to_numpy()\n",
    "\n",
    "#Hitung Prediksi\n",
    "fold2_list = []\n",
    "\n",
    "#Looping tiap baris test\n",
    "for row in range(len(fold2_test)):\n",
    "    hasil = 0\n",
    "    hasil = tebak_KNN(fold2_train, fold2_test[row], 10)\n",
    "    fold2_list.append(hasil)\n",
    "\n",
    "#Ubah Hasil Prediksi ke integer\n",
    "fold2_test_outcome = fold2_test_outcome.to_list()\n",
    "\n",
    "#Hitung Akurasi\n",
    "acc2 = nilai_Akurasi(fold2_list, fold2_test_outcome)\n",
    "print(\"Nilai Akurasi = \", acc2)"
   ]
  },
  {
   "cell_type": "code",
   "execution_count": 5,
   "metadata": {},
   "outputs": [
    {
     "name": "stdout",
     "output_type": "stream",
     "text": [
      "Nilai Akurasi =  68.18181818181817\n"
     ]
    }
   ],
   "source": [
    "#Fold3\n",
    "fold3_train = train_Data(df, 0, 307)\n",
    "dummy3 = train_Data(df, 461, 768)\n",
    "fold3_train = fold3_train.append(dummy3)\n",
    "\n",
    "fold3_test, fold3_test_outcome = test_Data(df, 307, 461)\n",
    "\n",
    "fold3_test = fold3_test.to_numpy()\n",
    "fold3_train = fold3_train.to_numpy()\n",
    "\n",
    "#Hitung Prediksi\n",
    "fold3_list = []\n",
    "\n",
    "#Looping tiap baris test\n",
    "for row in range(len(fold3_test)):\n",
    "    hasil = 0\n",
    "    hasil = tebak_KNN(fold3_train, fold3_test[row], 10)\n",
    "    fold3_list.append(hasil)\n",
    "\n",
    "#Ubah Hasil Prediksi ke integer\n",
    "fold3_test_outcome = fold3_test_outcome.to_list()\n",
    "\n",
    "#Hitung Akurasi\n",
    "acc3 = nilai_Akurasi(fold3_list, fold3_test_outcome)\n",
    "print(\"Nilai Akurasi = \", acc3)"
   ]
  },
  {
   "cell_type": "code",
   "execution_count": 6,
   "metadata": {},
   "outputs": [
    {
     "name": "stdout",
     "output_type": "stream",
     "text": [
      "Nilai Akurasi =  61.43790849673203\n"
     ]
    }
   ],
   "source": [
    "#Fold4\n",
    "fold4_train = train_Data(df, 0, 154)\n",
    "dummy4 = train_Data(df, 307, 768)\n",
    "fold4_train = fold4_train.append(dummy3)\n",
    "\n",
    "fold4_test, fold4_test_outcome = test_Data(df, 154, 307)\n",
    "\n",
    "fold4_test = fold4_test.to_numpy()\n",
    "fold4_train = fold4_train.to_numpy()\n",
    "\n",
    "#Hitung Prediksi\n",
    "fold4_list = []\n",
    "\n",
    "#Looping tiap baris test\n",
    "for row in range(len(fold4_test)):\n",
    "    hasil = 0\n",
    "    hasil = tebak_KNN(fold4_train, fold4_test[row], 10)\n",
    "    fold4_list.append(hasil)\n",
    "\n",
    "#Ubah Hasil Prediksi ke integer\n",
    "fold4_test_outcome = fold4_test_outcome.to_list()\n",
    "\n",
    "#Hitung Akurasi\n",
    "acc4 = nilai_Akurasi(fold4_list, fold4_test_outcome)\n",
    "print(\"Nilai Akurasi = \", acc4)"
   ]
  },
  {
   "cell_type": "code",
   "execution_count": 7,
   "metadata": {},
   "outputs": [
    {
     "name": "stdout",
     "output_type": "stream",
     "text": [
      "Nilai Akurasi =  67.53246753246754\n"
     ]
    }
   ],
   "source": [
    "#Fold5\n",
    "fold5_train = train_Data(df, 154, 768)\n",
    "fold5_test, fold5_test_outcome = test_Data(df, 0, 154)\n",
    "\n",
    "fold5_test = fold5_test.to_numpy()\n",
    "fold5_train = fold5_train.to_numpy()\n",
    "\n",
    "#Hitung Jarak\n",
    "fold5_list = []\n",
    "\n",
    "#Looping tiap baris test\n",
    "for row in range(len(fold5_test)):\n",
    "    hasil = 0\n",
    "    hasil = tebak_KNN(fold5_train, fold5_test[row], 10)\n",
    "    fold5_list.append(hasil)\n",
    "\n",
    "#Ubah Hasil Prediksi ke integer\n",
    "fold5_test_outcome = fold5_test_outcome.to_list()\n",
    "\n",
    "#Hitung Akurasi\n",
    "acc5 = nilai_Akurasi(fold5_list, fold5_test_outcome)\n",
    "print(\"Nilai Akurasi = \", acc5)"
   ]
  },
  {
   "cell_type": "markdown",
   "metadata": {},
   "source": [
    "Rata-rata Akurasi"
   ]
  },
  {
   "cell_type": "code",
   "execution_count": 8,
   "metadata": {},
   "outputs": [
    {
     "name": "stdout",
     "output_type": "stream",
     "text": [
      "67.05967235378999\n"
     ]
    }
   ],
   "source": [
    "accall = ((acc1 + acc2 + acc3 + acc4 + acc5)/5)\n",
    "print(accall)"
   ]
  }
 ],
 "metadata": {
  "kernelspec": {
   "display_name": "Python 3",
   "language": "python",
   "name": "python3"
  },
  "language_info": {
   "codemirror_mode": {
    "name": "ipython",
    "version": 3
   },
   "file_extension": ".py",
   "mimetype": "text/x-python",
   "name": "python",
   "nbconvert_exporter": "python",
   "pygments_lexer": "ipython3",
   "version": "3.8.3"
  }
 },
 "nbformat": 4,
 "nbformat_minor": 4
}
