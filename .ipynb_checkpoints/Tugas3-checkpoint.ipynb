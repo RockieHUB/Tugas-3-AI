{
 "cells": [
  {
   "cell_type": "code",
   "execution_count": 1,
   "metadata": {
    "id": "5_QbsBCEgXfr"
   },
   "outputs": [],
   "source": [
    "import pandas as pd\n",
    "import numpy as np\n",
    "from sklearn.preprocessing import MinMaxScaler"
   ]
  },
  {
   "cell_type": "code",
   "execution_count": 2,
   "metadata": {
    "id": "0G-VodOtiAdm"
   },
   "outputs": [],
   "source": [
    "data = pd.read_csv(\"Diabetes.csv\")"
   ]
  },
  {
   "cell_type": "code",
   "execution_count": 3,
   "metadata": {
    "id": "VJbm1mrqIKwA"
   },
   "outputs": [],
   "source": [
    "scaler = MinMaxScaler()\n",
    "data_copy = data.copy()\n",
    "data_copy[\n",
    "    ['Pregnancies','Glucose','BloodPressure','SkinThickness','Insulin','BMI','DiabetesPedigreeFunction','Age']\n",
    "] = scaler.fit_transform(data_copy[\n",
    "    ['Pregnancies','Glucose','BloodPressure','SkinThickness','Insulin','BMI','DiabetesPedigreeFunction','Age']                         \n",
    "])"
   ]
  },
  {
   "cell_type": "code",
   "execution_count": 4,
   "metadata": {
    "id": "D14p6Iw3ZQh5"
   },
   "outputs": [],
   "source": [
    "def distance(a,b):\n",
    "    return np.sqrt(np.sum(a-b)**2)"
   ]
  },
  {
   "cell_type": "code",
   "execution_count": 5,
   "metadata": {
    "id": "1169BpPJ-nVA"
   },
   "outputs": [],
   "source": [
    "def prediksi(jarak2, label):\n",
    "    satu = 0\n",
    "    nol = 0\n",
    "    for i in range(len(jarak2)):\n",
    "        if label[jarak2[i][0]] == 1:\n",
    "            satu += 1 \n",
    "        else :\n",
    "            nol += 1\n",
    "    if satu < nol :\n",
    "        return 0\n",
    "    else :\n",
    "        return 1"
   ]
  },
  {
   "cell_type": "code",
   "execution_count": 6,
   "metadata": {
    "id": "wEgoF6KGCwk9"
   },
   "outputs": [],
   "source": [
    "def accuracy(prediksi,label):\n",
    "    benar = 0\n",
    "    for i in range(len(prediksi)):\n",
    "        if label[i]==prediksi[i]:\n",
    "            benar += 1\n",
    "    return benar*100/(len(split_test))"
   ]
  },
  {
   "cell_type": "code",
   "execution_count": 7,
   "metadata": {
    "id": "qpEKP4dw0Ndk"
   },
   "outputs": [],
   "source": [
    "def terbaik(acc):\n",
    "    j = 1\n",
    "    terbaik = 0\n",
    "    for i in range(len(acc)-1):\n",
    "        if acc[i]<acc[terbaik]:\n",
    "            terbaik = j\n",
    "        j += 1\n",
    "    return terbaik-1"
   ]
  },
  {
   "cell_type": "code",
   "execution_count": 8,
   "metadata": {
    "colab": {
     "base_uri": "https://localhost:8080/"
    },
    "id": "PdnzzFZAYqcq",
    "outputId": "ce588565-53c6-46d1-d5f6-62b60a6bfde0"
   },
   "outputs": [
    {
     "name": "stdout",
     "output_type": "stream",
     "text": [
      "Nilai K terbaik adalah :  2\n",
      "Rata-rata akurasi KNN :  60.0\n"
     ]
    }
   ],
   "source": [
    "batas0 = 0\n",
    "batas1 = [614, 460, 307, 154,  -1]\n",
    "batas2 = [ -1, 613, 461, 308, 154]\n",
    "batas3 = [614, 461, 307, 153,   0]\n",
    "batas4 = [768, 615, 461, 307, 154]\n",
    "batas5 = -1\n",
    "\n",
    "ttlacc = []\n",
    "\n",
    "for i in range(5):\n",
    "    a = np.array(data_copy[['Pregnancies','Glucose','BloodPressure','SkinThickness','Insulin','BMI','DiabetesPedigreeFunction','Age']][batas0:batas1[i]].values)\n",
    "    b = np.array(data_copy[['Pregnancies','Glucose','BloodPressure','SkinThickness','Insulin','BMI','DiabetesPedigreeFunction','Age']][batas2[i]:batas5].values)\n",
    "    split_train = np.concatenate((a, b))\n",
    "    split_test = data_copy[['Pregnancies','Glucose','BloodPressure','SkinThickness','Insulin','BMI','DiabetesPedigreeFunction','Age']][batas3[i]:batas4[i]].values\n",
    "    c = np.array(data_copy[['Outcome']][batas0:batas1[i]].values)\n",
    "    d = np.array(data_copy[['Outcome']][batas2[i]:batas5].values)\n",
    "    label = np.concatenate((c, d))\n",
    "    label_predik = data_copy[['Outcome']][batas3[i]:batas4[i]].values\n",
    "\n",
    "    if (i == 1):\n",
    "        batas5 = 768\n",
    "    if (i == 3 ):\n",
    "        batas0 = -1\n",
    "\n",
    "    predik = []\n",
    "    \n",
    "    for j in range(len(split_test)):\n",
    "        jarak = []\n",
    "        for k in range(len(split_train)):\n",
    "            jarak.append([])\n",
    "            jarak[k].append(k)\n",
    "            jarak[k].append(distance(split_train[k],split_test[j]))\n",
    "\n",
    "        jarak.sort(reverse=True, key = lambda x: x[1])\n",
    "        jarak = jarak[:1]\n",
    "        predik.append(prediksi(jarak, label))\n",
    "    ttlacc.append(accuracy(predik,label_predik))\n",
    "\n",
    "print(\"Nilai K terbaik adalah : \",terbaik(ttlacc))\n",
    "print(\"Rata-rata akurasi KNN : \",np.mean(ttlacc))"
   ]
  }
 ],
 "metadata": {
  "colab": {
   "collapsed_sections": [],
   "name": "Tugas3.ipynb",
   "provenance": []
  },
  "kernelspec": {
   "display_name": "Python 3",
   "language": "python",
   "name": "python3"
  },
  "language_info": {
   "codemirror_mode": {
    "name": "ipython",
    "version": 3
   },
   "file_extension": ".py",
   "mimetype": "text/x-python",
   "name": "python",
   "nbconvert_exporter": "python",
   "pygments_lexer": "ipython3",
   "version": "3.8.3"
  }
 },
 "nbformat": 4,
 "nbformat_minor": 1
}
