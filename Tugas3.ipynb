{
 "cells": [
  {
   "cell_type": "code",
   "execution_count": 1,
   "metadata": {
    "id": "5_QbsBCEgXfr"
   },
   "outputs": [],
   "source": [
    "import pandas as pd\n",
    "import numpy as np\n",
    "from sklearn.preprocessing import MinMaxScaler"
   ]
  },
  {
   "cell_type": "code",
   "execution_count": 2,
   "metadata": {
    "id": "0G-VodOtiAdm"
   },
   "outputs": [],
   "source": [
    "data = pd.read_csv(\"Diabetes.csv\")"
   ]
  },
  {
   "cell_type": "code",
   "execution_count": 9,
   "metadata": {
    "id": "VJbm1mrqIKwA"
   },
   "outputs": [
    {
     "data": {
      "text/html": [
       "<div>\n",
       "<style scoped>\n",
       "    .dataframe tbody tr th:only-of-type {\n",
       "        vertical-align: middle;\n",
       "    }\n",
       "\n",
       "    .dataframe tbody tr th {\n",
       "        vertical-align: top;\n",
       "    }\n",
       "\n",
       "    .dataframe thead th {\n",
       "        text-align: right;\n",
       "    }\n",
       "</style>\n",
       "<table border=\"1\" class=\"dataframe\">\n",
       "  <thead>\n",
       "    <tr style=\"text-align: right;\">\n",
       "      <th></th>\n",
       "      <th>Pregnancies</th>\n",
       "      <th>Glucose</th>\n",
       "      <th>BloodPressure</th>\n",
       "      <th>SkinThickness</th>\n",
       "      <th>Insulin</th>\n",
       "      <th>BMI</th>\n",
       "      <th>DiabetesPedigreeFunction</th>\n",
       "      <th>Age</th>\n",
       "      <th>Outcome</th>\n",
       "    </tr>\n",
       "  </thead>\n",
       "  <tbody>\n",
       "    <tr>\n",
       "      <th>0</th>\n",
       "      <td>0.352941</td>\n",
       "      <td>0.743719</td>\n",
       "      <td>0.590164</td>\n",
       "      <td>0.353535</td>\n",
       "      <td>0.000000</td>\n",
       "      <td>0.500745</td>\n",
       "      <td>0.234415</td>\n",
       "      <td>0.483333</td>\n",
       "      <td>1</td>\n",
       "    </tr>\n",
       "    <tr>\n",
       "      <th>1</th>\n",
       "      <td>0.058824</td>\n",
       "      <td>0.427136</td>\n",
       "      <td>0.540984</td>\n",
       "      <td>0.292929</td>\n",
       "      <td>0.000000</td>\n",
       "      <td>0.396423</td>\n",
       "      <td>0.116567</td>\n",
       "      <td>0.166667</td>\n",
       "      <td>0</td>\n",
       "    </tr>\n",
       "    <tr>\n",
       "      <th>2</th>\n",
       "      <td>0.470588</td>\n",
       "      <td>0.919598</td>\n",
       "      <td>0.524590</td>\n",
       "      <td>0.000000</td>\n",
       "      <td>0.000000</td>\n",
       "      <td>0.347243</td>\n",
       "      <td>0.253629</td>\n",
       "      <td>0.183333</td>\n",
       "      <td>1</td>\n",
       "    </tr>\n",
       "    <tr>\n",
       "      <th>3</th>\n",
       "      <td>0.058824</td>\n",
       "      <td>0.447236</td>\n",
       "      <td>0.540984</td>\n",
       "      <td>0.232323</td>\n",
       "      <td>0.111111</td>\n",
       "      <td>0.418778</td>\n",
       "      <td>0.038002</td>\n",
       "      <td>0.000000</td>\n",
       "      <td>0</td>\n",
       "    </tr>\n",
       "    <tr>\n",
       "      <th>4</th>\n",
       "      <td>0.000000</td>\n",
       "      <td>0.688442</td>\n",
       "      <td>0.327869</td>\n",
       "      <td>0.353535</td>\n",
       "      <td>0.198582</td>\n",
       "      <td>0.642325</td>\n",
       "      <td>0.943638</td>\n",
       "      <td>0.200000</td>\n",
       "      <td>1</td>\n",
       "    </tr>\n",
       "    <tr>\n",
       "      <th>...</th>\n",
       "      <td>...</td>\n",
       "      <td>...</td>\n",
       "      <td>...</td>\n",
       "      <td>...</td>\n",
       "      <td>...</td>\n",
       "      <td>...</td>\n",
       "      <td>...</td>\n",
       "      <td>...</td>\n",
       "      <td>...</td>\n",
       "    </tr>\n",
       "    <tr>\n",
       "      <th>763</th>\n",
       "      <td>0.588235</td>\n",
       "      <td>0.507538</td>\n",
       "      <td>0.622951</td>\n",
       "      <td>0.484848</td>\n",
       "      <td>0.212766</td>\n",
       "      <td>0.490313</td>\n",
       "      <td>0.039710</td>\n",
       "      <td>0.700000</td>\n",
       "      <td>0</td>\n",
       "    </tr>\n",
       "    <tr>\n",
       "      <th>764</th>\n",
       "      <td>0.117647</td>\n",
       "      <td>0.613065</td>\n",
       "      <td>0.573770</td>\n",
       "      <td>0.272727</td>\n",
       "      <td>0.000000</td>\n",
       "      <td>0.548435</td>\n",
       "      <td>0.111870</td>\n",
       "      <td>0.100000</td>\n",
       "      <td>0</td>\n",
       "    </tr>\n",
       "    <tr>\n",
       "      <th>765</th>\n",
       "      <td>0.294118</td>\n",
       "      <td>0.608040</td>\n",
       "      <td>0.590164</td>\n",
       "      <td>0.232323</td>\n",
       "      <td>0.132388</td>\n",
       "      <td>0.390462</td>\n",
       "      <td>0.071307</td>\n",
       "      <td>0.150000</td>\n",
       "      <td>0</td>\n",
       "    </tr>\n",
       "    <tr>\n",
       "      <th>766</th>\n",
       "      <td>0.058824</td>\n",
       "      <td>0.633166</td>\n",
       "      <td>0.491803</td>\n",
       "      <td>0.000000</td>\n",
       "      <td>0.000000</td>\n",
       "      <td>0.448584</td>\n",
       "      <td>0.115713</td>\n",
       "      <td>0.433333</td>\n",
       "      <td>1</td>\n",
       "    </tr>\n",
       "    <tr>\n",
       "      <th>767</th>\n",
       "      <td>0.058824</td>\n",
       "      <td>0.467337</td>\n",
       "      <td>0.573770</td>\n",
       "      <td>0.313131</td>\n",
       "      <td>0.000000</td>\n",
       "      <td>0.453055</td>\n",
       "      <td>0.101196</td>\n",
       "      <td>0.033333</td>\n",
       "      <td>0</td>\n",
       "    </tr>\n",
       "  </tbody>\n",
       "</table>\n",
       "<p>768 rows × 9 columns</p>\n",
       "</div>"
      ],
      "text/plain": [
       "     Pregnancies   Glucose  BloodPressure  SkinThickness   Insulin       BMI  \\\n",
       "0       0.352941  0.743719       0.590164       0.353535  0.000000  0.500745   \n",
       "1       0.058824  0.427136       0.540984       0.292929  0.000000  0.396423   \n",
       "2       0.470588  0.919598       0.524590       0.000000  0.000000  0.347243   \n",
       "3       0.058824  0.447236       0.540984       0.232323  0.111111  0.418778   \n",
       "4       0.000000  0.688442       0.327869       0.353535  0.198582  0.642325   \n",
       "..           ...       ...            ...            ...       ...       ...   \n",
       "763     0.588235  0.507538       0.622951       0.484848  0.212766  0.490313   \n",
       "764     0.117647  0.613065       0.573770       0.272727  0.000000  0.548435   \n",
       "765     0.294118  0.608040       0.590164       0.232323  0.132388  0.390462   \n",
       "766     0.058824  0.633166       0.491803       0.000000  0.000000  0.448584   \n",
       "767     0.058824  0.467337       0.573770       0.313131  0.000000  0.453055   \n",
       "\n",
       "     DiabetesPedigreeFunction       Age  Outcome  \n",
       "0                    0.234415  0.483333        1  \n",
       "1                    0.116567  0.166667        0  \n",
       "2                    0.253629  0.183333        1  \n",
       "3                    0.038002  0.000000        0  \n",
       "4                    0.943638  0.200000        1  \n",
       "..                        ...       ...      ...  \n",
       "763                  0.039710  0.700000        0  \n",
       "764                  0.111870  0.100000        0  \n",
       "765                  0.071307  0.150000        0  \n",
       "766                  0.115713  0.433333        1  \n",
       "767                  0.101196  0.033333        0  \n",
       "\n",
       "[768 rows x 9 columns]"
      ]
     },
     "execution_count": 9,
     "metadata": {},
     "output_type": "execute_result"
    }
   ],
   "source": [
    "scaler = MinMaxScaler()\n",
    "data_copy = data.copy()\n",
    "data_copy[\n",
    "    ['Pregnancies','Glucose','BloodPressure','SkinThickness','Insulin','BMI','DiabetesPedigreeFunction','Age']\n",
    "] = scaler.fit_transform(data_copy[\n",
    "    ['Pregnancies','Glucose','BloodPressure','SkinThickness','Insulin','BMI','DiabetesPedigreeFunction','Age']                         \n",
    "])\n",
    "data_copy"
   ]
  },
  {
   "cell_type": "code",
   "execution_count": 4,
   "metadata": {
    "id": "D14p6Iw3ZQh5"
   },
   "outputs": [],
   "source": [
    "def distance(a,b):\n",
    "    return np.sqrt(np.sum(a-b)**2)"
   ]
  },
  {
   "cell_type": "code",
   "execution_count": 5,
   "metadata": {
    "id": "1169BpPJ-nVA"
   },
   "outputs": [],
   "source": [
    "def prediksi(jarak2, label):\n",
    "    satu = 0\n",
    "    nol = 0\n",
    "    for i in range(len(jarak2)):\n",
    "        if label[jarak2[i][0]] == 1:\n",
    "            satu += 1 \n",
    "        else :\n",
    "            nol += 1\n",
    "    if satu < nol :\n",
    "        return 0\n",
    "    else :\n",
    "        return 1"
   ]
  },
  {
   "cell_type": "code",
   "execution_count": 6,
   "metadata": {
    "id": "wEgoF6KGCwk9"
   },
   "outputs": [],
   "source": [
    "def accuracy(prediksi,label):\n",
    "    benar = 0\n",
    "    for i in range(len(prediksi)):\n",
    "        if label[i]==prediksi[i]:\n",
    "            benar += 1\n",
    "    return benar*100/(len(split_test))"
   ]
  },
  {
   "cell_type": "code",
   "execution_count": 7,
   "metadata": {
    "id": "qpEKP4dw0Ndk"
   },
   "outputs": [],
   "source": [
    "def terbaik(acc):\n",
    "    j = 1\n",
    "    terbaik = 0\n",
    "    for i in range(len(acc)-1):\n",
    "        if acc[i]<acc[terbaik]:\n",
    "            terbaik = j\n",
    "        j += 1\n",
    "    return terbaik-1"
   ]
  },
  {
   "cell_type": "code",
   "execution_count": 8,
   "metadata": {
    "colab": {
     "base_uri": "https://localhost:8080/"
    },
    "id": "PdnzzFZAYqcq",
    "outputId": "ce588565-53c6-46d1-d5f6-62b60a6bfde0"
   },
   "outputs": [
    {
     "name": "stdout",
     "output_type": "stream",
     "text": [
      "Nilai K terbaik adalah :  2\n",
      "Rata-rata akurasi KNN :  60.0\n"
     ]
    }
   ],
   "source": [
    "batas0 = 0\n",
    "batas1 = [614, 460, 307, 154,  -1]\n",
    "batas2 = [ -1, 613, 461, 308, 154]\n",
    "batas3 = [614, 461, 307, 153,   0]\n",
    "batas4 = [768, 615, 461, 307, 154]\n",
    "batas5 = -1\n",
    "\n",
    "ttlacc = []\n",
    "\n",
    "for i in range(5):\n",
    "    a = np.array(data_copy[['Pregnancies','Glucose','BloodPressure','SkinThickness','Insulin','BMI','DiabetesPedigreeFunction','Age']][batas0:batas1[i]].values)\n",
    "    b = np.array(data_copy[['Pregnancies','Glucose','BloodPressure','SkinThickness','Insulin','BMI','DiabetesPedigreeFunction','Age']][batas2[i]:batas5].values)\n",
    "    split_train = np.concatenate((a, b))\n",
    "    split_test = data_copy[['Pregnancies','Glucose','BloodPressure','SkinThickness','Insulin','BMI','DiabetesPedigreeFunction','Age']][batas3[i]:batas4[i]].values\n",
    "    c = np.array(data_copy[['Outcome']][batas0:batas1[i]].values)\n",
    "    d = np.array(data_copy[['Outcome']][batas2[i]:batas5].values)\n",
    "    label = np.concatenate((c, d))\n",
    "    label_predik = data_copy[['Outcome']][batas3[i]:batas4[i]].values\n",
    "\n",
    "    if (i == 1):\n",
    "        batas5 = 768\n",
    "    if (i == 3 ):\n",
    "        batas0 = -1\n",
    "\n",
    "    predik = []\n",
    "    \n",
    "    for j in range(len(split_test)):\n",
    "        jarak = []\n",
    "        for k in range(len(split_train)):\n",
    "            jarak.append([])\n",
    "            jarak[k].append(k)\n",
    "            jarak[k].append(distance(split_train[k],split_test[j]))\n",
    "\n",
    "        jarak.sort(reverse=True, key = lambda x: x[1])\n",
    "        jarak = jarak[:1]\n",
    "        predik.append(prediksi(jarak, label))\n",
    "    ttlacc.append(accuracy(predik,label_predik))\n",
    "\n",
    "print(\"Nilai K terbaik adalah : \",terbaik(ttlacc))\n",
    "print(\"Rata-rata akurasi KNN : \",np.mean(ttlacc))"
   ]
  }
 ],
 "metadata": {
  "colab": {
   "collapsed_sections": [],
   "name": "Tugas3.ipynb",
   "provenance": []
  },
  "kernelspec": {
   "display_name": "Python 3",
   "language": "python",
   "name": "python3"
  },
  "language_info": {
   "codemirror_mode": {
    "name": "ipython",
    "version": 3
   },
   "file_extension": ".py",
   "mimetype": "text/x-python",
   "name": "python",
   "nbconvert_exporter": "python",
   "pygments_lexer": "ipython3",
   "version": "3.8.3"
  }
 },
 "nbformat": 4,
 "nbformat_minor": 1
}
